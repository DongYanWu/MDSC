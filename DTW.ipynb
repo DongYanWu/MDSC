{
 "cells": [
  {
   "cell_type": "code",
   "execution_count": 1,
   "metadata": {},
   "outputs": [],
   "source": [
    "import pandas as pd\n",
    "import numpy as np\n",
    "from dtaidistance import dtw\n",
    "import matplotlib.pyplot as plt\n",
    "import fastdtw\n",
    "from scipy.spatial.distance import euclidean"
   ]
  },
  {
   "cell_type": "code",
   "execution_count": 2,
   "metadata": {},
   "outputs": [],
   "source": [
    "data = pd.read_csv('C://python//智慧製造大數據競賽//2024-pre-train//combined_data.csv')"
   ]
  },
  {
   "cell_type": "code",
   "execution_count": 3,
   "metadata": {},
   "outputs": [],
   "source": [
    "data_test =pd.read_csv(\"C://python//智慧製造大數據競賽//2024-pre-train//2024-testing.csv\")"
   ]
  },
  {
   "cell_type": "code",
   "execution_count": 4,
   "metadata": {},
   "outputs": [],
   "source": [
    "data_test_subset = data_test.iloc[:50, :11]"
   ]
  },
  {
   "cell_type": "code",
   "execution_count": 41,
   "metadata": {},
   "outputs": [],
   "source": [
    "results = []\n",
    "# 獲取所有的 Material 和 Condition 組合\n",
    "materials = data['Material'].unique()\n",
    "conditions = data['Condition'].unique()"
   ]
  },
  {
   "cell_type": "code",
   "execution_count": 18,
   "metadata": {},
   "outputs": [
    {
     "name": "stdout",
     "output_type": "stream",
     "text": [
      "     y_col  material condition  dtw_distance\n",
      "81     y02         4         b         109.0\n",
      "841    y02         4         b         109.0\n",
      "373    y02         4         b         109.0\n",
      "386    y02         7         c         163.0\n",
      "854    y02         7         c         163.0\n",
      "94     y02         7         c         163.0\n",
      "1114   y07         7         c         187.0\n",
      "646    y07         7         c         187.0\n",
      "438    y03         7         c         203.0\n",
      "906    y03         7         c         203.0\n"
     ]
    }
   ],
   "source": [
    "# 逐一對 y01~y10 進行獨立 DTW 檢測\n",
    "for y_col in ['y01', 'y02', 'y03', 'y04', 'y05', 'y06', 'y07', 'y08', 'y09', 'y10']:\n",
    "    for material in materials:\n",
    "        for condition in conditions:\n",
    "            # 篩選出對應的 material 和 condition\n",
    "            data_subset = data[(data['Material'] == material) & (data['Condition'] == condition)]\n",
    "            data_subset = data_subset.iloc[:50]  # 取前50筆數據\n",
    "            if data_subset.shape[0] < 50:\n",
    "                continue  # 如果該 material-condition 沒有足夠的數據，跳過\n",
    "\n",
    "            # 進行 DTW 比較（將每個 y 序列作為 1-D 向量）\n",
    "            test_values = data_test_subset[y_col].values  # 1-D array\n",
    "            train_values = data_subset[y_col]  # 1-D array\n",
    "            # print(y_col,material,condition,test_values.shape,train_values.shape)\n",
    "            dist, path = fastdtw(test_values, train_values, dist=2)\n",
    "\n",
    "            # 保存結果\n",
    "            results.append({\n",
    "                'y_col': y_col,\n",
    "                'material': material,\n",
    "                'condition': condition,\n",
    "                'dtw_distance': dist\n",
    "            })\n",
    "\n",
    "# 將結果轉換為 DataFrame 並按 DTW 距離排序\n",
    "results_df = pd.DataFrame(results)\n",
    "sorted_results = results_df.sort_values(by='dtw_distance')\n",
    "\n",
    "# 顯示結果\n",
    "print(sorted_results.head(10))  # 查看DTW距離最小的前10個結果"
   ]
  },
  {
   "cell_type": "code",
   "execution_count": 21,
   "metadata": {},
   "outputs": [
    {
     "name": "stdout",
     "output_type": "stream",
     "text": [
      "每個 Condition 的 DTW 距離總和為:\n",
      "  condition  dtw_distance\n",
      "0         a    19653739.0\n",
      "1         b    16251980.0\n",
      "2         c    14151841.0\n",
      "3         d    15997521.0\n"
     ]
    }
   ],
   "source": [
    "# 按 Condition 分組，並對每個 Condition 的 DTW 距離求和\n",
    "sum_dtw_by_condition = results_df.groupby('condition')['dtw_distance'].sum().reset_index()\n",
    "\n",
    "# 顯示每個 Condition 的 DTW 距離總和\n",
    "print(\"每個 Condition 的 DTW 距離總和為:\")\n",
    "print(sum_dtw_by_condition)"
   ]
  }
 ],
 "metadata": {
  "kernelspec": {
   "display_name": "Python 3",
   "language": "python",
   "name": "python3"
  },
  "language_info": {
   "codemirror_mode": {
    "name": "ipython",
    "version": 3
   },
   "file_extension": ".py",
   "mimetype": "text/x-python",
   "name": "python",
   "nbconvert_exporter": "python",
   "pygments_lexer": "ipython3",
   "version": "3.11.1"
  }
 },
 "nbformat": 4,
 "nbformat_minor": 2
}
