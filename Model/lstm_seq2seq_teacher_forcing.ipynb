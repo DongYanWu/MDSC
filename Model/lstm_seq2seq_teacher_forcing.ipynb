{
  "cells": [
    {
      "cell_type": "markdown",
      "metadata": {
        "id": "_mgLaP7zZ-o0"
      },
      "source": [
        "# 前置作業"
      ]
    },
    {
      "cell_type": "code",
      "execution_count": null,
      "metadata": {
        "id": "PUTkWuxkKuq3",
        "outputId": "4283f46b-3f14-4de2-db6d-a8bb5f19b56a"
      },
      "outputs": [
        {
          "name": "stdout",
          "output_type": "stream",
          "text": [
            "WARNING:tensorflow:From c:\\Users\\sean\\AppData\\Local\\Programs\\Python\\Python311\\Lib\\site-packages\\keras\\src\\losses.py:2976: The name tf.losses.sparse_softmax_cross_entropy is deprecated. Please use tf.compat.v1.losses.sparse_softmax_cross_entropy instead.\n",
            "\n"
          ]
        }
      ],
      "source": [
        "import pandas as pd\n",
        "import torch\n",
        "import torch.nn as nn\n",
        "import numpy as np\n",
        "# from torch.utils import data\n",
        "from torch.utils.data import Dataset, DataLoader, TensorDataset\n",
        "from sklearn.preprocessing import MinMaxScaler\n",
        "import matplotlib.pyplot as plt\n",
        "from keras.models import Model\n",
        "from keras.layers import Input, LSTM, RepeatVector, TimeDistributed, Dense\n",
        "from sklearn.metrics import mean_squared_error\n",
        "from tensorflow.keras.models import load_model\n",
        "import torch\n",
        "import torch.nn as nn\n",
        "import torch.optim as optim\n",
        "import random"
      ]
    },
    {
      "cell_type": "code",
      "execution_count": null,
      "metadata": {
        "id": "7uUCX_l2K9rl"
      },
      "outputs": [],
      "source": [
        "data = pd.read_csv('combined_data.csv')"
      ]
    },
    {
      "cell_type": "markdown",
      "metadata": {
        "id": "LGJ4tuFbaEjM"
      },
      "source": [
        "# 數據準備\n"
      ]
    },
    {
      "cell_type": "code",
      "execution_count": null,
      "metadata": {
        "colab": {
          "base_uri": "https://localhost:8080/"
        },
        "id": "hTKW7OUcPYso",
        "outputId": "5ba86294-f043-42b4-edce-fcc7e74d2bc4"
      },
      "outputs": [
        {
          "name": "stdout",
          "output_type": "stream",
          "text": [
            "訓練集樣本數: 192000\n",
            "驗證集樣本數: 4000\n",
            "測試集樣本數: 4000\n"
          ]
        }
      ],
      "source": [
        "# 分割訓練集和測試集\n",
        "# 根據Material和Condition進行數據劃分\n",
        "# train_data = data[~((data['Material'] == 13) & (data['Condition'] == 'd'))]\n",
        "train_data = data[~((data['Material'] == 13))]\n",
        "test_data = data[(data['Material'] == 13) & (data['Condition'] == 'c')]\n",
        "\n",
        "# 選擇 validation set & 訓練集排除這部分數據\n",
        "validation_data = data[(data['Material'] == 13) & (data['Condition'] == 'b')]\n",
        "# train_data = train_data[~((train_data['Material'] == 5) & (train_data['Condition'] == 'b'))]\n",
        "# 檢查劃分結果\n",
        "print(f\"訓練集樣本數: {train_data.shape[0]}\")\n",
        "print(f\"驗證集樣本數: {validation_data.shape[0]}\")\n",
        "print(f\"測試集樣本數: {test_data.shape[0]}\")"
      ]
    },
    {
      "cell_type": "code",
      "execution_count": null,
      "metadata": {
        "colab": {
          "base_uri": "https://localhost:8080/"
        },
        "collapsed": true,
        "id": "4ENnH2SPrtc3",
        "outputId": "d7f2da02-fc09-4ade-d7d5-0e390db90aa1"
      },
      "outputs": [
        {
          "name": "stderr",
          "output_type": "stream",
          "text": [
            "C:\\Users\\sean\\AppData\\Local\\Temp\\ipykernel_20320\\3500195941.py:8: SettingWithCopyWarning: \n",
            "A value is trying to be set on a copy of a slice from a DataFrame.\n",
            "Try using .loc[row_indexer,col_indexer] = value instead\n",
            "\n",
            "See the caveats in the documentation: https://pandas.pydata.org/pandas-docs/stable/user_guide/indexing.html#returning-a-view-versus-a-copy\n",
            "  train_data[feature_columns] = scaler.fit_transform(train_data[feature_columns])\n",
            "C:\\Users\\sean\\AppData\\Local\\Temp\\ipykernel_20320\\3500195941.py:11: SettingWithCopyWarning: \n",
            "A value is trying to be set on a copy of a slice from a DataFrame.\n",
            "Try using .loc[row_indexer,col_indexer] = value instead\n",
            "\n",
            "See the caveats in the documentation: https://pandas.pydata.org/pandas-docs/stable/user_guide/indexing.html#returning-a-view-versus-a-copy\n",
            "  validation_data[feature_columns] = scaler.transform(validation_data[feature_columns])\n",
            "C:\\Users\\sean\\AppData\\Local\\Temp\\ipykernel_20320\\3500195941.py:14: SettingWithCopyWarning: \n",
            "A value is trying to be set on a copy of a slice from a DataFrame.\n",
            "Try using .loc[row_indexer,col_indexer] = value instead\n",
            "\n",
            "See the caveats in the documentation: https://pandas.pydata.org/pandas-docs/stable/user_guide/indexing.html#returning-a-view-versus-a-copy\n",
            "  test_data[feature_columns] = scaler.transform(test_data[feature_columns])\n"
          ]
        }
      ],
      "source": [
        "# 需要標準化的特徵列\n",
        "feature_columns = [f'y{i:02}' for i in range(1, 11)]\n",
        "\n",
        "# 使用訓練集來fit標準化\n",
        "scaler = MinMaxScaler()\n",
        "\n",
        "# 對訓練集標準化\n",
        "train_data[feature_columns] = scaler.fit_transform(train_data[feature_columns])\n",
        "\n",
        "# 對驗證集使用相同的縮放進行標準化\n",
        "validation_data[feature_columns] = scaler.transform(validation_data[feature_columns])\n",
        "\n",
        "# 對測試集使用相同的縮放進行標準化\n",
        "test_data[feature_columns] = scaler.transform(test_data[feature_columns])"
      ]
    },
    {
      "cell_type": "code",
      "execution_count": null,
      "metadata": {
        "colab": {
          "base_uri": "https://localhost:8080/"
        },
        "id": "IquohugfsIyv",
        "outputId": "b404ca49-96d1-470b-81dc-16c4602dfacb"
      },
      "outputs": [
        {
          "name": "stdout",
          "output_type": "stream",
          "text": [
            "訓練集序列數: 188448\n",
            "測試集序列數: 3926\n",
            "測試集序列數: 3926\n"
          ]
        }
      ],
      "source": [
        "def create_sequences(data, feature_columns, window_size_in=50, window_size_out=25):\n",
        "    sequences = []\n",
        "    targets = []\n",
        "\n",
        "    materials = data['Material'].unique()\n",
        "    conditions = data['Condition'].unique()\n",
        "\n",
        "    for material in materials:\n",
        "        for condition in conditions:\n",
        "            material_condition_data = data[(data['Material'] == material) & (data['Condition'] == condition)]\n",
        "\n",
        "            # 獲取特徵數據\n",
        "            features = material_condition_data[feature_columns].values\n",
        "\n",
        "            # 切割序列\n",
        "            for i in range(len(features) - window_size_in - window_size_out + 1):\n",
        "                seq_in = features[i:i+window_size_in]\n",
        "                seq_out = features[i+window_size_in:i+window_size_in+window_size_out]\n",
        "                sequences.append(seq_in)\n",
        "                targets.append(seq_out)\n",
        "\n",
        "    return np.array(sequences), np.array(targets)\n",
        "\n",
        "# 創建訓練集的 sequence windows\n",
        "X_train, y_train = create_sequences(train_data, feature_columns)\n",
        "\n",
        "# 創建測試集的 sequence windows\n",
        "X_test, y_test = create_sequences(test_data, feature_columns)\n",
        "\n",
        "# 創建 validation set 的 sequence windows\n",
        "X_val, y_val = create_sequences(validation_data, feature_columns)\n",
        "\n",
        "print(f\"訓練集序列數: {X_train.shape[0]}\")\n",
        "print(f\"測試集序列數: {X_val.shape[0]}\")\n",
        "print(f\"測試集序列數: {X_test.shape[0]}\")"
      ]
    },
    {
      "cell_type": "code",
      "execution_count": null,
      "metadata": {
        "colab": {
          "base_uri": "https://localhost:8080/"
        },
        "id": "k-uYJy6hte4j",
        "outputId": "e243e764-bd11-4a52-e2db-1f620cf94b5c"
      },
      "outputs": [
        {
          "name": "stdout",
          "output_type": "stream",
          "text": [
            "訓練集批次數: 2945\n",
            "測試集批次數: 62\n",
            "驗證集批次數: 62\n"
          ]
        }
      ],
      "source": [
        "# 將數據轉換為 Tensor\n",
        "X_train_tensor = torch.tensor(X_train, dtype=torch.float32)\n",
        "y_train_tensor = torch.tensor(y_train, dtype=torch.float32)\n",
        "X_test_tensor = torch.tensor(X_test, dtype=torch.float32)\n",
        "y_test_tensor = torch.tensor(y_test, dtype=torch.float32)\n",
        "X_val_tensor = torch.tensor(X_val, dtype=torch.float32)\n",
        "y_val_tensor = torch.tensor(y_val, dtype=torch.float32)\n",
        "\n",
        "# 創建 TensorDataset\n",
        "train_dataset = TensorDataset(X_train_tensor, y_train_tensor)\n",
        "test_dataset = TensorDataset(X_test_tensor, y_test_tensor)\n",
        "val_dataset = TensorDataset(X_val_tensor, y_val_tensor)\n",
        "\n",
        "# 創建 DataLoader\n",
        "batch_size = 64\n",
        "train_loader = DataLoader(train_dataset, batch_size=batch_size, shuffle=True)\n",
        "test_loader = DataLoader(test_dataset, batch_size=batch_size, shuffle=False)\n",
        "val_loader = DataLoader(val_dataset, batch_size=batch_size, shuffle=False)\n",
        "\n",
        "# 檢查 Dataloader\n",
        "print(f\"訓練集批次數: {len(train_loader)}\")\n",
        "print(f\"測試集批次數: {len(test_loader)}\")\n",
        "print(f\"驗證集批次數: {len(val_loader)}\")"
      ]
    },
    {
      "cell_type": "markdown",
      "metadata": {
        "id": "jyVoYiKJw9xp"
      },
      "source": [
        "# Model"
      ]
    },
    {
      "cell_type": "code",
      "execution_count": null,
      "metadata": {
        "id": "Jbq1wAoSw9xp"
      },
      "outputs": [],
      "source": [
        "class LSTMSeq2Seq(nn.Module):\n",
        "    def __init__(self, input_size, hidden_size, output_size, num_layers=2):\n",
        "        super(LSTMSeq2Seq, self).__init__()\n",
        "\n",
        "        # 兩層的編碼器 LSTM\n",
        "        self.encoder_lstm = nn.LSTM(input_size, hidden_size, num_layers, batch_first=True)\n",
        "\n",
        "        # 單層的解碼器 LSTM\n",
        "        self.decoder_lstm = nn.LSTM(output_size, hidden_size, 1, batch_first=True)\n",
        "\n",
        "        # Output layer\n",
        "        self.fc = nn.Linear(hidden_size, output_size)\n",
        "\n",
        "    def forward(self, encoder_inputs, decoder_inputs, teacher_forcing_ratio=0.5):\n",
        "        # Encoder forward pass\n",
        "        _, (hidden, cell) = self.encoder_lstm(encoder_inputs)\n",
        "\n",
        "        # Teacher forcing: 使用teacher forcing的比例\n",
        "        use_teacher_forcing = True if torch.rand(1).item() < teacher_forcing_ratio else False\n",
        "\n",
        "        # Decoder forward pass\n",
        "        decoder_outputs = []\n",
        "        decoder_input = decoder_inputs[:, 0, :].unsqueeze(1)  # 初始化解碼器的輸入\n",
        "\n",
        "        for t in range(decoder_inputs.size(1)):\n",
        "            output, (hidden, cell) = self.decoder_lstm(decoder_input, (hidden, cell))\n",
        "            output = self.fc(output)  # Apply output layer\n",
        "\n",
        "            decoder_outputs.append(output)\n",
        "\n",
        "            # 下一個時間步的輸入\n",
        "            if use_teacher_forcing:\n",
        "                decoder_input = decoder_inputs[:, t, :].unsqueeze(1)  # 使用真實的輸入\n",
        "            else:\n",
        "                decoder_input = output  # 使用模型的預測作為下一個時間步的輸入\n",
        "\n",
        "        decoder_outputs = torch.cat(decoder_outputs, dim=1)\n",
        "        return decoder_outputs"
      ]
    },
    {
      "cell_type": "code",
      "execution_count": null,
      "metadata": {
        "id": "VpPJ7jGww9xp",
        "outputId": "67ec0d07-9fcc-485c-cec2-c156063af259"
      },
      "outputs": [
        {
          "name": "stdout",
          "output_type": "stream",
          "text": [
            "LSTMSeq2Seq(\n",
            "  (encoder_lstm): LSTM(10, 100, batch_first=True)\n",
            "  (decoder_lstm): LSTM(10, 100, batch_first=True)\n",
            "  (fc): Linear(in_features=100, out_features=10, bias=True)\n",
            ")\n"
          ]
        }
      ],
      "source": [
        "# 模型參數\n",
        "input_size = 10  # 每個時間步的特徵數量\n",
        "hidden_size = 100  # LSTM 隱藏層的單元數量\n",
        "output_size = 10  # 每個時間步的輸出特徵\n",
        "num_layers = 2  # Encoder LSTM 層數\n",
        "\n",
        "# 創建模型\n",
        "model = LSTMSeq2Seq(input_size, hidden_size, output_size, num_layers)\n",
        "\n",
        "# 損失函數與優化器\n",
        "criterion = nn.MSELoss()\n",
        "optimizer = torch.optim.Adam(model.parameters(), lr=0.001)\n",
        "\n",
        "# 模型摘要\n",
        "print(model)"
      ]
    },
    {
      "cell_type": "code",
      "execution_count": null,
      "metadata": {
        "id": "4SPXDvSCw9xq"
      },
      "outputs": [],
      "source": [
        "# 定義 Early Stopping 機制\n",
        "class EarlyStopping:\n",
        "    def __init__(self, patience=10, delta=0):\n",
        "        self.patience = patience  # 容忍的epoch數\n",
        "        self.delta = delta  # 最小損失改善\n",
        "        self.best_loss = None\n",
        "        self.counter = 0\n",
        "        self.early_stop = False\n",
        "        self.best_weights = None\n",
        "\n",
        "    def __call__(self, val_loss, model):\n",
        "        if self.best_loss is None:\n",
        "            self.best_loss = val_loss\n",
        "            self.best_weights = model.state_dict()\n",
        "        elif val_loss < self.best_loss - self.delta:\n",
        "            self.best_loss = val_loss\n",
        "            self.best_weights = model.state_dict()\n",
        "            self.counter = 0  # 每次有進步時重置計數器\n",
        "        else:\n",
        "            self.counter += 1\n",
        "            if self.counter >= self.patience:\n",
        "                self.early_stop = True\n",
        "                model.load_state_dict(self.best_weights)  # 回復最佳權重"
      ]
    },
    {
      "cell_type": "code",
      "execution_count": null,
      "metadata": {
        "id": "zVFROR3vw9xq",
        "outputId": "b8e18913-ba1e-42e1-cca3-94070f29efa1"
      },
      "outputs": [
        {
          "name": "stdout",
          "output_type": "stream",
          "text": [
            "Epoch 1, Training Loss: 0.0000\n",
            "Validation Loss: 0.0000\n",
            "Epoch 2, Training Loss: 0.0000\n",
            "Validation Loss: 0.0000\n",
            "Epoch 3, Training Loss: 0.0000\n",
            "Validation Loss: 0.0000\n",
            "Epoch 4, Training Loss: 0.0000\n",
            "Validation Loss: 0.0000\n",
            "Epoch 5, Training Loss: 0.0000\n",
            "Validation Loss: 0.0000\n",
            "Epoch 6, Training Loss: 0.0000\n",
            "Validation Loss: 0.0000\n",
            "Epoch 7, Training Loss: 0.0000\n",
            "Validation Loss: 0.0000\n",
            "Epoch 8, Training Loss: 0.0000\n",
            "Validation Loss: 0.0000\n",
            "Epoch 9, Training Loss: 0.0000\n",
            "Validation Loss: 0.0000\n",
            "Epoch 10, Training Loss: 0.0000\n",
            "Validation Loss: 0.0000\n",
            "Epoch 11, Training Loss: 0.0000\n",
            "Validation Loss: 0.0000\n",
            "Epoch 12, Training Loss: 0.0000\n",
            "Validation Loss: 0.0000\n",
            "Epoch 13, Training Loss: 0.0000\n",
            "Validation Loss: 0.0000\n",
            "Epoch 14, Training Loss: 0.0000\n",
            "Validation Loss: 0.0000\n",
            "Epoch 15, Training Loss: 0.0000\n",
            "Validation Loss: 0.0000\n",
            "Epoch 16, Training Loss: 0.0000\n",
            "Validation Loss: 0.0000\n",
            "Epoch 17, Training Loss: 0.0000\n",
            "Validation Loss: 0.0000\n",
            "Epoch 18, Training Loss: 0.0000\n",
            "Validation Loss: 0.0000\n",
            "Epoch 19, Training Loss: 0.0000\n",
            "Validation Loss: 0.0000\n",
            "Epoch 20, Training Loss: 0.0000\n",
            "Validation Loss: 0.0000\n",
            "Epoch 21, Training Loss: 0.0000\n",
            "Validation Loss: 0.0000\n",
            "Epoch 22, Training Loss: 0.0000\n",
            "Validation Loss: 0.0000\n",
            "Epoch 23, Training Loss: 0.0000\n",
            "Validation Loss: 0.0000\n",
            "Epoch 24, Training Loss: 0.0000\n",
            "Validation Loss: 0.0000\n",
            "Epoch 25, Training Loss: 0.0000\n",
            "Validation Loss: 0.0000\n",
            "Epoch 26, Training Loss: 0.0000\n",
            "Validation Loss: 0.0000\n",
            "Epoch 27, Training Loss: 0.0000\n",
            "Validation Loss: 0.0000\n",
            "Epoch 28, Training Loss: 0.0000\n",
            "Validation Loss: 0.0000\n",
            "Epoch 29, Training Loss: 0.0000\n",
            "Validation Loss: 0.0000\n",
            "Epoch 30, Training Loss: 0.0000\n",
            "Validation Loss: 0.0000\n",
            "Epoch 31, Training Loss: 0.0000\n",
            "Validation Loss: 0.0000\n",
            "Epoch 32, Training Loss: 0.0000\n",
            "Validation Loss: 0.0000\n",
            "Epoch 33, Training Loss: 0.0000\n",
            "Validation Loss: 0.0000\n",
            "Epoch 34, Training Loss: 0.0000\n",
            "Validation Loss: 0.0000\n",
            "Epoch 35, Training Loss: 0.0000\n",
            "Validation Loss: 0.0000\n",
            "Epoch 36, Training Loss: 0.0000\n",
            "Validation Loss: 0.0000\n",
            "Epoch 37, Training Loss: 0.0000\n",
            "Validation Loss: 0.0000\n",
            "Epoch 38, Training Loss: 0.0000\n",
            "Validation Loss: 0.0000\n",
            "Epoch 39, Training Loss: 0.0000\n",
            "Validation Loss: 0.0000\n",
            "Epoch 40, Training Loss: 0.0000\n",
            "Validation Loss: 0.0000\n",
            "Epoch 41, Training Loss: 0.0000\n",
            "Validation Loss: 0.0000\n",
            "Epoch 42, Training Loss: 0.0000\n",
            "Validation Loss: 0.0000\n",
            "Epoch 43, Training Loss: 0.0000\n",
            "Validation Loss: 0.0000\n",
            "Epoch 44, Training Loss: 0.0000\n",
            "Validation Loss: 0.0000\n",
            "Epoch 45, Training Loss: 0.0000\n",
            "Validation Loss: 0.0000\n",
            "Epoch 46, Training Loss: 0.0000\n",
            "Validation Loss: 0.0000\n",
            "Epoch 47, Training Loss: 0.0000\n",
            "Validation Loss: 0.0000\n",
            "Epoch 48, Training Loss: 0.0000\n",
            "Validation Loss: 0.0000\n",
            "Epoch 49, Training Loss: 0.0000\n",
            "Validation Loss: 0.0000\n",
            "Epoch 50, Training Loss: 0.0000\n",
            "Validation Loss: 0.0000\n",
            "Epoch 51, Training Loss: 0.0000\n",
            "Validation Loss: 0.0000\n",
            "Early stopping triggered\n"
          ]
        }
      ],
      "source": [
        "def train_model(model, X_train, y_train, X_val, y_val, epochs=100, batch_size=64, teacher_forcing_ratio=0.5, patience=10):\n",
        "    early_stopping = EarlyStopping(patience=patience)  # 初始化 Early Stopping\n",
        "\n",
        "    # 記錄每個 epoch 的損失\n",
        "    train_losses = []\n",
        "    val_losses = []\n",
        "\n",
        "    for epoch in range(epochs):\n",
        "        model.train()\n",
        "        epoch_loss = 0\n",
        "\n",
        "        for i in range(0, len(X_train), batch_size):\n",
        "            X_batch = torch.tensor(X_train[i:i+batch_size], dtype=torch.float32)\n",
        "            y_batch = torch.tensor(y_train[i:i+batch_size], dtype=torch.float32)\n",
        "\n",
        "            optimizer.zero_grad()  # 重置梯度\n",
        "\n",
        "            # 前向傳播\n",
        "            output = model(X_batch, y_batch, teacher_forcing_ratio)\n",
        "\n",
        "            # 計算損失\n",
        "            loss = criterion(output, y_batch)\n",
        "            loss.backward()  # 反向傳播\n",
        "\n",
        "            optimizer.step()  # 更新參數\n",
        "\n",
        "            epoch_loss += loss.item()\n",
        "\n",
        "        train_loss = epoch_loss / len(X_train)\n",
        "        train_losses.append(train_loss)  # 保存每個 epoch 的訓練損失\n",
        "        print(f'Epoch {epoch+1}, Training Loss: {train_loss:.4f}')\n",
        "\n",
        "        # 驗證集上的損失計算\n",
        "        model.eval()\n",
        "        val_loss = 0\n",
        "        with torch.no_grad():\n",
        "            for i in range(0, len(X_val), batch_size):\n",
        "                X_val_batch = torch.tensor(X_val[i:i+batch_size], dtype=torch.float32)\n",
        "                y_val_batch = torch.tensor(y_val[i:i+batch_size], dtype=torch.float32)\n",
        "\n",
        "                output_val = model(X_val_batch, y_val_batch, teacher_forcing_ratio=0.0)  # 驗證時不使用teacher forcing\n",
        "                val_loss += criterion(output_val, y_val_batch).item()\n",
        "\n",
        "        val_loss /= len(X_val)\n",
        "        val_losses.append(val_loss)  # 保存每個 epoch 的驗證損失\n",
        "        print(f'Validation Loss: {val_loss:.4f}')\n",
        "\n",
        "        # 檢查 Early Stopping\n",
        "        early_stopping(val_loss, model)\n",
        "\n",
        "        if early_stopping.early_stop:\n",
        "            print(\"Early stopping triggered\")\n",
        "            break\n",
        "\n",
        "    # 返回訓練和驗證損失\n",
        "    return train_losses, val_losses\n",
        "\n",
        "# 開始訓練\n",
        "train_losses, val_losses = train_model(model, X_train, y_train, X_val, y_val, epochs=100, batch_size=64, teacher_forcing_ratio=0.5, patience=10)"
      ]
    },
    {
      "cell_type": "code",
      "execution_count": null,
      "metadata": {
        "id": "gkLiNdk7w9xq",
        "outputId": "b6455526-90f9-4f45-d75b-c8de95995262"
      },
      "outputs": [
        {
          "data": {
            "image/png": "[encoded data removed]",
            "text/plain": [
              "<Figure size 640x480 with 1 Axes>"
            ]
          },
          "metadata": {},
          "output_type": "display_data"
        }
      ],
      "source": [
        "# 繪製訓練損失和驗證損失\n",
        "plt.plot(train_losses, label='Training Loss')\n",
        "plt.plot(val_losses, label='Validation Loss')\n",
        "plt.title('Training and Validation Loss')\n",
        "plt.xlabel('Epochs')\n",
        "plt.ylabel('Loss')\n",
        "plt.legend()\n",
        "plt.show()"
      ]
    },
    {
      "cell_type": "markdown",
      "metadata": {
        "id": "EMrvkkZCbLuh"
      },
      "source": [
        "# 後處理"
      ]
    },
    {
      "cell_type": "code",
      "execution_count": null,
      "metadata": {
        "id": "Lf2oFX2Sw9xq"
      },
      "outputs": [],
      "source": [
        "torch.save(model, 'teacher_forcing_model.pt')"
      ]
    },
    {
      "cell_type": "code",
      "execution_count": null,
      "metadata": {
        "colab": {
          "base_uri": "https://localhost:8080/"
        },
        "id": "yekkLMaMYPz2",
        "outputId": "c6842507-0650-4a8d-ba7d-662c075a1d18"
      },
      "outputs": [
        {
          "name": "stderr",
          "output_type": "stream",
          "text": [
            "/usr/local/lib/python3.10/dist-packages/keras/src/saving/saving_lib.py:576: UserWarning: Skipping variable loading for optimizer 'rmsprop', because it has 10 variables whereas the saved optimizer has 18 variables. \n",
            "  saveable.load_own_variables(weights_store.get(inner_path))\n"
          ]
        }
      ],
      "source": [
        "model = load_model('LSTM_Seq2Seq第一版.keras')"
      ]
    },
    {
      "cell_type": "code",
      "execution_count": null,
      "metadata": {
        "id": "wXt--ycUw9xq"
      },
      "outputs": [],
      "source": [
        "# PyTorch 版本的逐步預測函數 (修正過的版本)\n",
        "def stepwise_prediction(model, initial_sequence, prediction_steps=3950, step_size=25):\n",
        "    model.eval()  # 切換到評估模式\n",
        "    predictions = []\n",
        "\n",
        "    # 確保初始輸入為 tensor 並調整形狀\n",
        "    current_input = torch.tensor(initial_sequence, dtype=torch.float32).unsqueeze(0)  # (1, 50, 10)\n",
        "\n",
        "    # 記錄預測的總步數\n",
        "    total_steps = prediction_steps // step_size\n",
        "\n",
        "    # 逐步進行預測\n",
        "    for _ in range(total_steps):\n",
        "        with torch.no_grad():  # 不需要計算梯度，提升推理效率\n",
        "            # 使用模型進行預測\n",
        "            predicted = model(current_input, current_input[:, :, :], teacher_forcing_ratio=0.0)  # 不使用 Teacher Forcing\n",
        "            predicted = predicted[:, -step_size:, :]  # 獲取最後 step_size 個時間步的預測結果\n",
        "            predictions.append(predicted.detach().cpu().numpy())  # 將 tensor 轉為 numpy 並加入結果列表\n",
        "\n",
        "        # 更新輸入，使用最後 25 筆預測結果更新輸入序列\n",
        "        current_input = torch.cat((current_input[:, -25:, :], predicted), dim=1)[:, -50:, :]  # 保證保持 50 個時間步\n",
        "\n",
        "    # 將所有預測結果合併為一個大的序列\n",
        "    return np.concatenate(predictions, axis=1)"
      ]
    },
    {
      "cell_type": "code",
      "execution_count": null,
      "metadata": {
        "id": "AESMrRPLw9xq",
        "outputId": "557bc12d-570e-4daa-c2fd-6f08ee2dbb17"
      },
      "outputs": [
        {
          "name": "stderr",
          "output_type": "stream",
          "text": [
            "C:\\Users\\sean\\AppData\\Local\\Temp\\ipykernel_20320\\773877440.py:7: UserWarning: To copy construct from a tensor, it is recommended to use sourceTensor.clone().detach() or sourceTensor.clone().detach().requires_grad_(True), rather than torch.tensor(sourceTensor).\n",
            "  current_input = torch.tensor(initial_sequence, dtype=torch.float32).unsqueeze(0)  # (1, 50, 10)\n"
          ]
        }
      ],
      "source": [
        "# 使用測試集的初始數據進行逐步預測\n",
        "initial_sequence = X_test_tensor[0]  # 測試集中的初始數據\n",
        "predicted_sequence = stepwise_prediction(model, initial_sequence)\n",
        "\n",
        "# 計算 MSE\n",
        "true_sequence = test_data[feature_columns].values[-3950:]\n",
        "predicted_sequence = predicted_sequence.reshape(-1, 10)"
      ]
    },
    {
      "cell_type": "code",
      "execution_count": null,
      "metadata": {
        "id": "J6mfAbhNw9xq"
      },
      "outputs": [],
      "source": [
        "mse = mean_squared_error(true_sequence, predicted_sequence)"
      ]
    },
    {
      "cell_type": "code",
      "execution_count": null,
      "metadata": {
        "id": "umWGSLxJw9xr",
        "outputId": "f337bb0f-9c49-42fd-e930-72f2f426a92c"
      },
      "outputs": [
        {
          "data": {
            "text/plain": [
              "0.0023225372741988008"
            ]
          },
          "execution_count": 75,
          "metadata": {},
          "output_type": "execute_result"
        }
      ],
      "source": [
        "mse"
      ]
    },
    {
      "cell_type": "code",
      "execution_count": null,
      "metadata": {
        "id": "JzI5Ne0vw9xr",
        "outputId": "57e0e4d8-48b0-4fff-fe3d-77743e8dcffe"
      },
      "outputs": [
        {
          "name": "stdout",
          "output_type": "stream",
          "text": [
            "還原後的測試集均方誤差 (MSE): 30930.855997406343\n"
          ]
        }
      ],
      "source": [
        "predicted_sequence_scaled = predicted_sequence.reshape(-1, 10)\n",
        "predicted_sequence_unscaled = scaler.inverse_transform(predicted_sequence_scaled)\n",
        "true_sequence_unscaled = scaler.inverse_transform(true_sequence)\n",
        "model_mse_original_scale = mean_squared_error(true_sequence_unscaled , predicted_sequence_unscaled)\n",
        "print(f\"還原後的測試集均方誤差 (MSE): {model_mse_original_scale}\")"
      ]
    },
    {
      "cell_type": "markdown",
      "metadata": {
        "id": "ihw0ri4QZ6Dt"
      },
      "source": [
        "# 測試結果"
      ]
    },
    {
      "cell_type": "code",
      "execution_count": null,
      "metadata": {
        "colab": {
          "base_uri": "https://localhost:8080/"
        },
        "id": "6Q37UQOD36J7",
        "outputId": "df864d8f-0e9a-40b9-ab78-48aa266d140b"
      },
      "outputs": [
        {
          "name": "stdout",
          "output_type": "stream",
          "text": [
            "基線 (前 50 筆均值) 的 MSE: 0.10496929027270967\n"
          ]
        }
      ],
      "source": [
        "initial_sequence = X_test[0]\n",
        "# 基於前 50 筆資料的平均值進行基線預測\n",
        "baseline_prediction = np.mean(initial_sequence, axis=0)\n",
        "\n",
        "# 將平均值複製來生成 3950 筆預測\n",
        "baseline_sequence = np.tile(baseline_prediction, (3950, 1))\n",
        "\n",
        "# 計算基線 MSE\n",
        "baseline_mse = mean_squared_error(true_sequence, baseline_sequence)\n",
        "\n",
        "print(f\"基線 (前 50 筆均值) 的 MSE: {baseline_mse}\")"
      ]
    },
    {
      "cell_type": "code",
      "execution_count": null,
      "metadata": {
        "colab": {
          "base_uri": "https://localhost:8080/"
        },
        "collapsed": true,
        "id": "BtWH-ottYnE-",
        "outputId": "67ceb6e5-88d2-4a7b-e92b-3f96e20d8738"
      },
      "outputs": [
        {
          "name": "stdout",
          "output_type": "stream",
          "text": [
            "\u001b[1m1/1\u001b[0m \u001b[32m━━━━━━━━━━━━━━━━━━━━\u001b[0m\u001b[37m\u001b[0m \u001b[1m0s\u001b[0m 20ms/step\n",
            "\u001b[1m1/1\u001b[0m \u001b[32m━━━━━━━━━━━━━━━━━━━━\u001b[0m\u001b[37m\u001b[0m \u001b[1m0s\u001b[0m 18ms/step\n",
            "\u001b[1m1/1\u001b[0m \u001b[32m━━━━━━━━━━━━━━━━━━━━\u001b[0m\u001b[37m\u001b[0m \u001b[1m0s\u001b[0m 22ms/step\n",
            "\u001b[1m1/1\u001b[0m \u001b[32m━━━━━━━━━━━━━━━━━━━━\u001b[0m\u001b[37m\u001b[0m \u001b[1m0s\u001b[0m 27ms/step\n",
            "\u001b[1m1/1\u001b[0m \u001b[32m━━━━━━━━━━━━━━━━━━━━\u001b[0m\u001b[37m\u001b[0m \u001b[1m0s\u001b[0m 18ms/step\n",
            "\u001b[1m1/1\u001b[0m \u001b[32m━━━━━━━━━━━━━━━━━━━━\u001b[0m\u001b[37m\u001b[0m \u001b[1m0s\u001b[0m 18ms/step\n",
            "\u001b[1m1/1\u001b[0m \u001b[32m━━━━━━━━━━━━━━━━━━━━\u001b[0m\u001b[37m\u001b[0m \u001b[1m0s\u001b[0m 19ms/step\n",
            "\u001b[1m1/1\u001b[0m \u001b[32m━━━━━━━━━━━━━━━━━━━━\u001b[0m\u001b[37m\u001b[0m \u001b[1m0s\u001b[0m 17ms/step\n",
            "\u001b[1m1/1\u001b[0m \u001b[32m━━━━━━━━━━━━━━━━━━━━\u001b[0m\u001b[37m\u001b[0m \u001b[1m0s\u001b[0m 17ms/step\n",
            "\u001b[1m1/1\u001b[0m \u001b[32m━━━━━━━━━━━━━━━━━━━━\u001b[0m\u001b[37m\u001b[0m \u001b[1m0s\u001b[0m 18ms/step\n",
            "\u001b[1m1/1\u001b[0m \u001b[32m━━━━━━━━━━━━━━━━━━━━\u001b[0m\u001b[37m\u001b[0m \u001b[1m0s\u001b[0m 22ms/step\n",
            "\u001b[1m1/1\u001b[0m \u001b[32m━━━━━━━━━━━━━━━━━━━━\u001b[0m\u001b[37m\u001b[0m \u001b[1m0s\u001b[0m 17ms/step\n",
            "\u001b[1m1/1\u001b[0m \u001b[32m━━━━━━━━━━━━━━━━━━━━\u001b[0m\u001b[37m\u001b[0m \u001b[1m0s\u001b[0m 17ms/step\n",
            "\u001b[1m1/1\u001b[0m \u001b[32m━━━━━━━━━━━━━━━━━━━━\u001b[0m\u001b[37m\u001b[0m \u001b[1m0s\u001b[0m 18ms/step\n",
            "\u001b[1m1/1\u001b[0m \u001b[32m━━━━━━━━━━━━━━━━━━━━\u001b[0m\u001b[37m\u001b[0m \u001b[1m0s\u001b[0m 19ms/step\n",
            "\u001b[1m1/1\u001b[0m \u001b[32m━━━━━━━━━━━━━━━━━━━━\u001b[0m\u001b[37m\u001b[0m \u001b[1m0s\u001b[0m 17ms/step\n",
            "\u001b[1m1/1\u001b[0m \u001b[32m━━━━━━━━━━━━━━━━━━━━\u001b[0m\u001b[37m\u001b[0m \u001b[1m0s\u001b[0m 17ms/step\n",
            "\u001b[1m1/1\u001b[0m \u001b[32m━━━━━━━━━━━━━━━━━━━━\u001b[0m\u001b[37m\u001b[0m \u001b[1m0s\u001b[0m 16ms/step\n",
            "\u001b[1m1/1\u001b[0m \u001b[32m━━━━━━━━━━━━━━━━━━━━\u001b[0m\u001b[37m\u001b[0m \u001b[1m0s\u001b[0m 17ms/step\n",
            "\u001b[1m1/1\u001b[0m \u001b[32m━━━━━━━━━━━━━━━━━━━━\u001b[0m\u001b[37m\u001b[0m \u001b[1m0s\u001b[0m 22ms/step\n",
            "\u001b[1m1/1\u001b[0m \u001b[32m━━━━━━━━━━━━━━━━━━━━\u001b[0m\u001b[37m\u001b[0m \u001b[1m0s\u001b[0m 21ms/step\n",
            "\u001b[1m1/1\u001b[0m \u001b[32m━━━━━━━━━━━━━━━━━━━━\u001b[0m\u001b[37m\u001b[0m \u001b[1m0s\u001b[0m 20ms/step\n",
            "\u001b[1m1/1\u001b[0m \u001b[32m━━━━━━━━━━━━━━━━━━━━\u001b[0m\u001b[37m\u001b[0m \u001b[1m0s\u001b[0m 20ms/step\n",
            "\u001b[1m1/1\u001b[0m \u001b[32m━━━━━━━━━━━━━━━━━━━━\u001b[0m\u001b[37m\u001b[0m \u001b[1m0s\u001b[0m 20ms/step\n",
            "\u001b[1m1/1\u001b[0m \u001b[32m━━━━━━━━━━━━━━━━━━━━\u001b[0m\u001b[37m\u001b[0m \u001b[1m0s\u001b[0m 17ms/step\n",
            "\u001b[1m1/1\u001b[0m \u001b[32m━━━━━━━━━━━━━━━━━━━━\u001b[0m\u001b[37m\u001b[0m \u001b[1m0s\u001b[0m 18ms/step\n",
            "\u001b[1m1/1\u001b[0m \u001b[32m━━━━━━━━━━━━━━━━━━━━\u001b[0m\u001b[37m\u001b[0m \u001b[1m0s\u001b[0m 17ms/step\n",
            "\u001b[1m1/1\u001b[0m \u001b[32m━━━━━━━━━━━━━━━━━━━━\u001b[0m\u001b[37m\u001b[0m \u001b[1m0s\u001b[0m 19ms/step\n",
            "\u001b[1m1/1\u001b[0m \u001b[32m━━━━━━━━━━━━━━━━━━━━\u001b[0m\u001b[37m\u001b[0m \u001b[1m0s\u001b[0m 17ms/step\n",
            "\u001b[1m1/1\u001b[0m \u001b[32m━━━━━━━━━━━━━━━━━━━━\u001b[0m\u001b[37m\u001b[0m \u001b[1m0s\u001b[0m 18ms/step\n",
            "\u001b[1m1/1\u001b[0m \u001b[32m━━━━━━━━━━━━━━━━━━━━\u001b[0m\u001b[37m\u001b[0m \u001b[1m0s\u001b[0m 19ms/step\n",
            "\u001b[1m1/1\u001b[0m \u001b[32m━━━━━━━━━━━━━━━━━━━━\u001b[0m\u001b[37m\u001b[0m \u001b[1m0s\u001b[0m 17ms/step\n",
            "\u001b[1m1/1\u001b[0m \u001b[32m━━━━━━━━━━━━━━━━━━━━\u001b[0m\u001b[37m\u001b[0m \u001b[1m0s\u001b[0m 17ms/step\n",
            "\u001b[1m1/1\u001b[0m \u001b[32m━━━━━━━━━━━━━━━━━━━━\u001b[0m\u001b[37m\u001b[0m \u001b[1m0s\u001b[0m 18ms/step\n",
            "\u001b[1m1/1\u001b[0m \u001b[32m━━━━━━━━━━━━━━━━━━━━\u001b[0m\u001b[37m\u001b[0m \u001b[1m0s\u001b[0m 16ms/step\n",
            "\u001b[1m1/1\u001b[0m \u001b[32m━━━━━━━━━━━━━━━━━━━━\u001b[0m\u001b[37m\u001b[0m \u001b[1m0s\u001b[0m 17ms/step\n",
            "\u001b[1m1/1\u001b[0m \u001b[32m━━━━━━━━━━━━━━━━━━━━\u001b[0m\u001b[37m\u001b[0m \u001b[1m0s\u001b[0m 22ms/step\n",
            "\u001b[1m1/1\u001b[0m \u001b[32m━━━━━━━━━━━━━━━━━━━━\u001b[0m\u001b[37m\u001b[0m \u001b[1m0s\u001b[0m 22ms/step\n",
            "\u001b[1m1/1\u001b[0m \u001b[32m━━━━━━━━━━━━━━━━━━━━\u001b[0m\u001b[37m\u001b[0m \u001b[1m0s\u001b[0m 20ms/step\n",
            "\u001b[1m1/1\u001b[0m \u001b[32m━━━━━━━━━━━━━━━━━━━━\u001b[0m\u001b[37m\u001b[0m \u001b[1m0s\u001b[0m 17ms/step\n",
            "\u001b[1m1/1\u001b[0m \u001b[32m━━━━━━━━━━━━━━━━━━━━\u001b[0m\u001b[37m\u001b[0m \u001b[1m0s\u001b[0m 17ms/step\n",
            "\u001b[1m1/1\u001b[0m \u001b[32m━━━━━━━━━━━━━━━━━━━━\u001b[0m\u001b[37m\u001b[0m \u001b[1m0s\u001b[0m 19ms/step\n",
            "\u001b[1m1/1\u001b[0m \u001b[32m━━━━━━━━━━━━━━━━━━━━\u001b[0m\u001b[37m\u001b[0m \u001b[1m0s\u001b[0m 19ms/step\n",
            "\u001b[1m1/1\u001b[0m \u001b[32m━━━━━━━━━━━━━━━━━━━━\u001b[0m\u001b[37m\u001b[0m \u001b[1m0s\u001b[0m 16ms/step\n",
            "\u001b[1m1/1\u001b[0m \u001b[32m━━━━━━━━━━━━━━━━━━━━\u001b[0m\u001b[37m\u001b[0m \u001b[1m0s\u001b[0m 16ms/step\n",
            "\u001b[1m1/1\u001b[0m \u001b[32m━━━━━━━━━━━━━━━━━━━━\u001b[0m\u001b[37m\u001b[0m \u001b[1m0s\u001b[0m 17ms/step\n",
            "\u001b[1m1/1\u001b[0m \u001b[32m━━━━━━━━━━━━━━━━━━━━\u001b[0m\u001b[37m\u001b[0m \u001b[1m0s\u001b[0m 19ms/step\n",
            "\u001b[1m1/1\u001b[0m \u001b[32m━━━━━━━━━━━━━━━━━━━━\u001b[0m\u001b[37m\u001b[0m \u001b[1m0s\u001b[0m 17ms/step\n",
            "\u001b[1m1/1\u001b[0m \u001b[32m━━━━━━━━━━━━━━━━━━━━\u001b[0m\u001b[37m\u001b[0m \u001b[1m0s\u001b[0m 17ms/step\n",
            "\u001b[1m1/1\u001b[0m \u001b[32m━━━━━━━━━━━━━━━━━━━━\u001b[0m\u001b[37m\u001b[0m \u001b[1m0s\u001b[0m 17ms/step\n",
            "\u001b[1m1/1\u001b[0m \u001b[32m━━━━━━━━━━━━━━━━━━━━\u001b[0m\u001b[37m\u001b[0m \u001b[1m0s\u001b[0m 17ms/step\n",
            "\u001b[1m1/1\u001b[0m \u001b[32m━━━━━━━━━━━━━━━━━━━━\u001b[0m\u001b[37m\u001b[0m \u001b[1m0s\u001b[0m 17ms/step\n",
            "\u001b[1m1/1\u001b[0m \u001b[32m━━━━━━━━━━━━━━━━━━━━\u001b[0m\u001b[37m\u001b[0m \u001b[1m0s\u001b[0m 17ms/step\n",
            "\u001b[1m1/1\u001b[0m \u001b[32m━━━━━━━━━━━━━━━━━━━━\u001b[0m\u001b[37m\u001b[0m \u001b[1m0s\u001b[0m 21ms/step\n",
            "\u001b[1m1/1\u001b[0m \u001b[32m━━━━━━━━━━━━━━━━━━━━\u001b[0m\u001b[37m\u001b[0m \u001b[1m0s\u001b[0m 20ms/step\n",
            "\u001b[1m1/1\u001b[0m \u001b[32m━━━━━━━━━━━━━━━━━━━━\u001b[0m\u001b[37m\u001b[0m \u001b[1m0s\u001b[0m 26ms/step\n",
            "\u001b[1m1/1\u001b[0m \u001b[32m━━━━━━━━━━━━━━━━━━━━\u001b[0m\u001b[37m\u001b[0m \u001b[1m0s\u001b[0m 23ms/step\n",
            "\u001b[1m1/1\u001b[0m \u001b[32m━━━━━━━━━━━━━━━━━━━━\u001b[0m\u001b[37m\u001b[0m \u001b[1m0s\u001b[0m 16ms/step\n",
            "\u001b[1m1/1\u001b[0m \u001b[32m━━━━━━━━━━━━━━━━━━━━\u001b[0m\u001b[37m\u001b[0m \u001b[1m0s\u001b[0m 16ms/step\n",
            "\u001b[1m1/1\u001b[0m \u001b[32m━━━━━━━━━━━━━━━━━━━━\u001b[0m\u001b[37m\u001b[0m \u001b[1m0s\u001b[0m 19ms/step\n",
            "\u001b[1m1/1\u001b[0m \u001b[32m━━━━━━━━━━━━━━━━━━━━\u001b[0m\u001b[37m\u001b[0m \u001b[1m0s\u001b[0m 17ms/step\n",
            "\u001b[1m1/1\u001b[0m \u001b[32m━━━━━━━━━━━━━━━━━━━━\u001b[0m\u001b[37m\u001b[0m \u001b[1m0s\u001b[0m 17ms/step\n",
            "\u001b[1m1/1\u001b[0m \u001b[32m━━━━━━━━━━━━━━━━━━━━\u001b[0m\u001b[37m\u001b[0m \u001b[1m0s\u001b[0m 17ms/step\n",
            "\u001b[1m1/1\u001b[0m \u001b[32m━━━━━━━━━━━━━━━━━━━━\u001b[0m\u001b[37m\u001b[0m \u001b[1m0s\u001b[0m 17ms/step\n",
            "\u001b[1m1/1\u001b[0m \u001b[32m━━━━━━━━━━━━━━━━━━━━\u001b[0m\u001b[37m\u001b[0m \u001b[1m0s\u001b[0m 17ms/step\n",
            "\u001b[1m1/1\u001b[0m \u001b[32m━━━━━━━━━━━━━━━━━━━━\u001b[0m\u001b[37m\u001b[0m \u001b[1m0s\u001b[0m 17ms/step\n",
            "\u001b[1m1/1\u001b[0m \u001b[32m━━━━━━━━━━━━━━━━━━━━\u001b[0m\u001b[37m\u001b[0m \u001b[1m0s\u001b[0m 18ms/step\n",
            "\u001b[1m1/1\u001b[0m \u001b[32m━━━━━━━━━━━━━━━━━━━━\u001b[0m\u001b[37m\u001b[0m \u001b[1m0s\u001b[0m 17ms/step\n",
            "\u001b[1m1/1\u001b[0m \u001b[32m━━━━━━━━━━━━━━━━━━━━\u001b[0m\u001b[37m\u001b[0m \u001b[1m0s\u001b[0m 17ms/step\n",
            "\u001b[1m1/1\u001b[0m \u001b[32m━━━━━━━━━━━━━━━━━━━━\u001b[0m\u001b[37m\u001b[0m \u001b[1m0s\u001b[0m 17ms/step\n",
            "\u001b[1m1/1\u001b[0m \u001b[32m━━━━━━━━━━━━━━━━━━━━\u001b[0m\u001b[37m\u001b[0m \u001b[1m0s\u001b[0m 23ms/step\n",
            "\u001b[1m1/1\u001b[0m \u001b[32m━━━━━━━━━━━━━━━━━━━━\u001b[0m\u001b[37m\u001b[0m \u001b[1m0s\u001b[0m 26ms/step\n",
            "\u001b[1m1/1\u001b[0m \u001b[32m━━━━━━━━━━━━━━━━━━━━\u001b[0m\u001b[37m\u001b[0m \u001b[1m0s\u001b[0m 29ms/step\n",
            "\u001b[1m1/1\u001b[0m \u001b[32m━━━━━━━━━━━━━━━━━━━━\u001b[0m\u001b[37m\u001b[0m \u001b[1m0s\u001b[0m 19ms/step\n",
            "\u001b[1m1/1\u001b[0m \u001b[32m━━━━━━━━━━━━━━━━━━━━\u001b[0m\u001b[37m\u001b[0m \u001b[1m0s\u001b[0m 17ms/step\n",
            "\u001b[1m1/1\u001b[0m \u001b[32m━━━━━━━━━━━━━━━━━━━━\u001b[0m\u001b[37m\u001b[0m \u001b[1m0s\u001b[0m 17ms/step\n",
            "\u001b[1m1/1\u001b[0m \u001b[32m━━━━━━━━━━━━━━━━━━━━\u001b[0m\u001b[37m\u001b[0m \u001b[1m0s\u001b[0m 20ms/step\n",
            "\u001b[1m1/1\u001b[0m \u001b[32m━━━━━━━━━━━━━━━━━━━━\u001b[0m\u001b[37m\u001b[0m \u001b[1m0s\u001b[0m 18ms/step\n",
            "\u001b[1m1/1\u001b[0m \u001b[32m━━━━━━━━━━━━━━━━━━━━\u001b[0m\u001b[37m\u001b[0m \u001b[1m0s\u001b[0m 19ms/step\n",
            "\u001b[1m1/1\u001b[0m \u001b[32m━━━━━━━━━━━━━━━━━━━━\u001b[0m\u001b[37m\u001b[0m \u001b[1m0s\u001b[0m 17ms/step\n",
            "\u001b[1m1/1\u001b[0m \u001b[32m━━━━━━━━━━━━━━━━━━━━\u001b[0m\u001b[37m\u001b[0m \u001b[1m0s\u001b[0m 17ms/step\n",
            "\u001b[1m1/1\u001b[0m \u001b[32m━━━━━━━━━━━━━━━━━━━━\u001b[0m\u001b[37m\u001b[0m \u001b[1m0s\u001b[0m 17ms/step\n",
            "\u001b[1m1/1\u001b[0m \u001b[32m━━━━━━━━━━━━━━━━━━━━\u001b[0m\u001b[37m\u001b[0m \u001b[1m0s\u001b[0m 16ms/step\n",
            "\u001b[1m1/1\u001b[0m \u001b[32m━━━━━━━━━━━━━━━━━━━━\u001b[0m\u001b[37m\u001b[0m \u001b[1m0s\u001b[0m 17ms/step\n",
            "\u001b[1m1/1\u001b[0m \u001b[32m━━━━━━━━━━━━━━━━━━━━\u001b[0m\u001b[37m\u001b[0m \u001b[1m0s\u001b[0m 17ms/step\n",
            "\u001b[1m1/1\u001b[0m \u001b[32m━━━━━━━━━━━━━━━━━━━━\u001b[0m\u001b[37m\u001b[0m \u001b[1m0s\u001b[0m 17ms/step\n",
            "\u001b[1m1/1\u001b[0m \u001b[32m━━━━━━━━━━━━━━━━━━━━\u001b[0m\u001b[37m\u001b[0m \u001b[1m0s\u001b[0m 19ms/step\n",
            "\u001b[1m1/1\u001b[0m \u001b[32m━━━━━━━━━━━━━━━━━━━━\u001b[0m\u001b[37m\u001b[0m \u001b[1m0s\u001b[0m 22ms/step\n",
            "\u001b[1m1/1\u001b[0m \u001b[32m━━━━━━━━━━━━━━━━━━━━\u001b[0m\u001b[37m\u001b[0m \u001b[1m0s\u001b[0m 20ms/step\n",
            "\u001b[1m1/1\u001b[0m \u001b[32m━━━━━━━━━━━━━━━━━━━━\u001b[0m\u001b[37m\u001b[0m \u001b[1m0s\u001b[0m 30ms/step\n",
            "\u001b[1m1/1\u001b[0m \u001b[32m━━━━━━━━━━━━━━━━━━━━\u001b[0m\u001b[37m\u001b[0m \u001b[1m0s\u001b[0m 17ms/step\n",
            "\u001b[1m1/1\u001b[0m \u001b[32m━━━━━━━━━━━━━━━━━━━━\u001b[0m\u001b[37m\u001b[0m \u001b[1m0s\u001b[0m 17ms/step\n",
            "\u001b[1m1/1\u001b[0m \u001b[32m━━━━━━━━━━━━━━━━━━━━\u001b[0m\u001b[37m\u001b[0m \u001b[1m0s\u001b[0m 16ms/step\n",
            "\u001b[1m1/1\u001b[0m \u001b[32m━━━━━━━━━━━━━━━━━━━━\u001b[0m\u001b[37m\u001b[0m \u001b[1m0s\u001b[0m 20ms/step\n",
            "\u001b[1m1/1\u001b[0m \u001b[32m━━━━━━━━━━━━━━━━━━━━\u001b[0m\u001b[37m\u001b[0m \u001b[1m0s\u001b[0m 18ms/step\n",
            "\u001b[1m1/1\u001b[0m \u001b[32m━━━━━━━━━━━━━━━━━━━━\u001b[0m\u001b[37m\u001b[0m \u001b[1m0s\u001b[0m 18ms/step\n",
            "\u001b[1m1/1\u001b[0m \u001b[32m━━━━━━━━━━━━━━━━━━━━\u001b[0m\u001b[37m\u001b[0m \u001b[1m0s\u001b[0m 17ms/step\n",
            "\u001b[1m1/1\u001b[0m \u001b[32m━━━━━━━━━━━━━━━━━━━━\u001b[0m\u001b[37m\u001b[0m \u001b[1m0s\u001b[0m 17ms/step\n",
            "\u001b[1m1/1\u001b[0m \u001b[32m━━━━━━━━━━━━━━━━━━━━\u001b[0m\u001b[37m\u001b[0m \u001b[1m0s\u001b[0m 18ms/step\n",
            "\u001b[1m1/1\u001b[0m \u001b[32m━━━━━━━━━━━━━━━━━━━━\u001b[0m\u001b[37m\u001b[0m \u001b[1m0s\u001b[0m 20ms/step\n",
            "\u001b[1m1/1\u001b[0m \u001b[32m━━━━━━━━━━━━━━━━━━━━\u001b[0m\u001b[37m\u001b[0m \u001b[1m0s\u001b[0m 17ms/step\n",
            "\u001b[1m1/1\u001b[0m \u001b[32m━━━━━━━━━━━━━━━━━━━━\u001b[0m\u001b[37m\u001b[0m \u001b[1m0s\u001b[0m 18ms/step\n",
            "\u001b[1m1/1\u001b[0m \u001b[32m━━━━━━━━━━━━━━━━━━━━\u001b[0m\u001b[37m\u001b[0m \u001b[1m0s\u001b[0m 17ms/step\n",
            "\u001b[1m1/1\u001b[0m \u001b[32m━━━━━━━━━━━━━━━━━━━━\u001b[0m\u001b[37m\u001b[0m \u001b[1m0s\u001b[0m 21ms/step\n",
            "\u001b[1m1/1\u001b[0m \u001b[32m━━━━━━━━━━━━━━━━━━━━\u001b[0m\u001b[37m\u001b[0m \u001b[1m0s\u001b[0m 21ms/step\n",
            "\u001b[1m1/1\u001b[0m \u001b[32m━━━━━━━━━━━━━━━━━━━━\u001b[0m\u001b[37m\u001b[0m \u001b[1m0s\u001b[0m 22ms/step\n",
            "\u001b[1m1/1\u001b[0m \u001b[32m━━━━━━━━━━━━━━━━━━━━\u001b[0m\u001b[37m\u001b[0m \u001b[1m0s\u001b[0m 23ms/step\n",
            "\u001b[1m1/1\u001b[0m \u001b[32m━━━━━━━━━━━━━━━━━━━━\u001b[0m\u001b[37m\u001b[0m \u001b[1m0s\u001b[0m 17ms/step\n",
            "\u001b[1m1/1\u001b[0m \u001b[32m━━━━━━━━━━━━━━━━━━━━\u001b[0m\u001b[37m\u001b[0m \u001b[1m0s\u001b[0m 17ms/step\n",
            "\u001b[1m1/1\u001b[0m \u001b[32m━━━━━━━━━━━━━━━━━━━━\u001b[0m\u001b[37m\u001b[0m \u001b[1m0s\u001b[0m 17ms/step\n",
            "\u001b[1m1/1\u001b[0m \u001b[32m━━━━━━━━━━━━━━━━━━━━\u001b[0m\u001b[37m\u001b[0m \u001b[1m0s\u001b[0m 17ms/step\n",
            "\u001b[1m1/1\u001b[0m \u001b[32m━━━━━━━━━━━━━━━━━━━━\u001b[0m\u001b[37m\u001b[0m \u001b[1m0s\u001b[0m 19ms/step\n",
            "\u001b[1m1/1\u001b[0m \u001b[32m━━━━━━━━━━━━━━━━━━━━\u001b[0m\u001b[37m\u001b[0m \u001b[1m0s\u001b[0m 17ms/step\n",
            "\u001b[1m1/1\u001b[0m \u001b[32m━━━━━━━━━━━━━━━━━━━━\u001b[0m\u001b[37m\u001b[0m \u001b[1m0s\u001b[0m 17ms/step\n",
            "\u001b[1m1/1\u001b[0m \u001b[32m━━━━━━━━━━━━━━━━━━━━\u001b[0m\u001b[37m\u001b[0m \u001b[1m0s\u001b[0m 27ms/step\n",
            "\u001b[1m1/1\u001b[0m \u001b[32m━━━━━━━━━━━━━━━━━━━━\u001b[0m\u001b[37m\u001b[0m \u001b[1m0s\u001b[0m 27ms/step\n",
            "\u001b[1m1/1\u001b[0m \u001b[32m━━━━━━━━━━━━━━━━━━━━\u001b[0m\u001b[37m\u001b[0m \u001b[1m0s\u001b[0m 24ms/step\n",
            "\u001b[1m1/1\u001b[0m \u001b[32m━━━━━━━━━━━━━━━━━━━━\u001b[0m\u001b[37m\u001b[0m \u001b[1m0s\u001b[0m 28ms/step\n",
            "\u001b[1m1/1\u001b[0m \u001b[32m━━━━━━━━━━━━━━━━━━━━\u001b[0m\u001b[37m\u001b[0m \u001b[1m0s\u001b[0m 38ms/step\n",
            "\u001b[1m1/1\u001b[0m \u001b[32m━━━━━━━━━━━━━━━━━━━━\u001b[0m\u001b[37m\u001b[0m \u001b[1m0s\u001b[0m 39ms/step\n",
            "\u001b[1m1/1\u001b[0m \u001b[32m━━━━━━━━━━━━━━━━━━━━\u001b[0m\u001b[37m\u001b[0m \u001b[1m0s\u001b[0m 46ms/step\n",
            "\u001b[1m1/1\u001b[0m \u001b[32m━━━━━━━━━━━━━━━━━━━━\u001b[0m\u001b[37m\u001b[0m \u001b[1m0s\u001b[0m 28ms/step\n",
            "\u001b[1m1/1\u001b[0m \u001b[32m━━━━━━━━━━━━━━━━━━━━\u001b[0m\u001b[37m\u001b[0m \u001b[1m0s\u001b[0m 25ms/step\n",
            "\u001b[1m1/1\u001b[0m \u001b[32m━━━━━━━━━━━━━━━━━━━━\u001b[0m\u001b[37m\u001b[0m \u001b[1m0s\u001b[0m 27ms/step\n",
            "\u001b[1m1/1\u001b[0m \u001b[32m━━━━━━━━━━━━━━━━━━━━\u001b[0m\u001b[37m\u001b[0m \u001b[1m0s\u001b[0m 25ms/step\n",
            "\u001b[1m1/1\u001b[0m \u001b[32m━━━━━━━━━━━━━━━━━━━━\u001b[0m\u001b[37m\u001b[0m \u001b[1m0s\u001b[0m 24ms/step\n",
            "\u001b[1m1/1\u001b[0m \u001b[32m━━━━━━━━━━━━━━━━━━━━\u001b[0m\u001b[37m\u001b[0m \u001b[1m0s\u001b[0m 25ms/step\n",
            "\u001b[1m1/1\u001b[0m \u001b[32m━━━━━━━━━━━━━━━━━━━━\u001b[0m\u001b[37m\u001b[0m \u001b[1m0s\u001b[0m 23ms/step\n",
            "\u001b[1m1/1\u001b[0m \u001b[32m━━━━━━━━━━━━━━━━━━━━\u001b[0m\u001b[37m\u001b[0m \u001b[1m0s\u001b[0m 25ms/step\n",
            "\u001b[1m1/1\u001b[0m \u001b[32m━━━━━━━━━━━━━━━━━━━━\u001b[0m\u001b[37m\u001b[0m \u001b[1m0s\u001b[0m 28ms/step\n",
            "\u001b[1m1/1\u001b[0m \u001b[32m━━━━━━━━━━━━━━━━━━━━\u001b[0m\u001b[37m\u001b[0m \u001b[1m0s\u001b[0m 28ms/step\n",
            "\u001b[1m1/1\u001b[0m \u001b[32m━━━━━━━━━━━━━━━━━━━━\u001b[0m\u001b[37m\u001b[0m \u001b[1m0s\u001b[0m 27ms/step\n",
            "\u001b[1m1/1\u001b[0m \u001b[32m━━━━━━━━━━━━━━━━━━━━\u001b[0m\u001b[37m\u001b[0m \u001b[1m0s\u001b[0m 25ms/step\n",
            "\u001b[1m1/1\u001b[0m \u001b[32m━━━━━━━━━━━━━━━━━━━━\u001b[0m\u001b[37m\u001b[0m \u001b[1m0s\u001b[0m 30ms/step\n",
            "\u001b[1m1/1\u001b[0m \u001b[32m━━━━━━━━━━━━━━━━━━━━\u001b[0m\u001b[37m\u001b[0m \u001b[1m0s\u001b[0m 26ms/step\n",
            "\u001b[1m1/1\u001b[0m \u001b[32m━━━━━━━━━━━━━━━━━━━━\u001b[0m\u001b[37m\u001b[0m \u001b[1m0s\u001b[0m 31ms/step\n",
            "\u001b[1m1/1\u001b[0m \u001b[32m━━━━━━━━━━━━━━━━━━━━\u001b[0m\u001b[37m\u001b[0m \u001b[1m0s\u001b[0m 28ms/step\n",
            "\u001b[1m1/1\u001b[0m \u001b[32m━━━━━━━━━━━━━━━━━━━━\u001b[0m\u001b[37m\u001b[0m \u001b[1m0s\u001b[0m 26ms/step\n",
            "\u001b[1m1/1\u001b[0m \u001b[32m━━━━━━━━━━━━━━━━━━━━\u001b[0m\u001b[37m\u001b[0m \u001b[1m0s\u001b[0m 26ms/step\n",
            "\u001b[1m1/1\u001b[0m \u001b[32m━━━━━━━━━━━━━━━━━━━━\u001b[0m\u001b[37m\u001b[0m \u001b[1m0s\u001b[0m 26ms/step\n",
            "\u001b[1m1/1\u001b[0m \u001b[32m━━━━━━━━━━━━━━━━━━━━\u001b[0m\u001b[37m\u001b[0m \u001b[1m0s\u001b[0m 25ms/step\n",
            "\u001b[1m1/1\u001b[0m \u001b[32m━━━━━━━━━━━━━━━━━━━━\u001b[0m\u001b[37m\u001b[0m \u001b[1m0s\u001b[0m 40ms/step\n",
            "\u001b[1m1/1\u001b[0m \u001b[32m━━━━━━━━━━━━━━━━━━━━\u001b[0m\u001b[37m\u001b[0m \u001b[1m0s\u001b[0m 43ms/step\n",
            "\u001b[1m1/1\u001b[0m \u001b[32m━━━━━━━━━━━━━━━━━━━━\u001b[0m\u001b[37m\u001b[0m \u001b[1m0s\u001b[0m 27ms/step\n",
            "\u001b[1m1/1\u001b[0m \u001b[32m━━━━━━━━━━━━━━━━━━━━\u001b[0m\u001b[37m\u001b[0m \u001b[1m0s\u001b[0m 31ms/step\n",
            "\u001b[1m1/1\u001b[0m \u001b[32m━━━━━━━━━━━━━━━━━━━━\u001b[0m\u001b[37m\u001b[0m \u001b[1m0s\u001b[0m 30ms/step\n",
            "\u001b[1m1/1\u001b[0m \u001b[32m━━━━━━━━━━━━━━━━━━━━\u001b[0m\u001b[37m\u001b[0m \u001b[1m0s\u001b[0m 30ms/step\n",
            "\u001b[1m1/1\u001b[0m \u001b[32m━━━━━━━━━━━━━━━━━━━━\u001b[0m\u001b[37m\u001b[0m \u001b[1m0s\u001b[0m 30ms/step\n",
            "\u001b[1m1/1\u001b[0m \u001b[32m━━━━━━━━━━━━━━━━━━━━\u001b[0m\u001b[37m\u001b[0m \u001b[1m0s\u001b[0m 30ms/step\n",
            "\u001b[1m1/1\u001b[0m \u001b[32m━━━━━━━━━━━━━━━━━━━━\u001b[0m\u001b[37m\u001b[0m \u001b[1m0s\u001b[0m 34ms/step\n",
            "\u001b[1m1/1\u001b[0m \u001b[32m━━━━━━━━━━━━━━━━━━━━\u001b[0m\u001b[37m\u001b[0m \u001b[1m0s\u001b[0m 17ms/step\n",
            "\u001b[1m1/1\u001b[0m \u001b[32m━━━━━━━━━━━━━━━━━━━━\u001b[0m\u001b[37m\u001b[0m \u001b[1m0s\u001b[0m 17ms/step\n",
            "\u001b[1m1/1\u001b[0m \u001b[32m━━━━━━━━━━━━━━━━━━━━\u001b[0m\u001b[37m\u001b[0m \u001b[1m0s\u001b[0m 21ms/step\n",
            "\u001b[1m1/1\u001b[0m \u001b[32m━━━━━━━━━━━━━━━━━━━━\u001b[0m\u001b[37m\u001b[0m \u001b[1m0s\u001b[0m 21ms/step\n",
            "\u001b[1m1/1\u001b[0m \u001b[32m━━━━━━━━━━━━━━━━━━━━\u001b[0m\u001b[37m\u001b[0m \u001b[1m0s\u001b[0m 21ms/step\n",
            "\u001b[1m1/1\u001b[0m \u001b[32m━━━━━━━━━━━━━━━━━━━━\u001b[0m\u001b[37m\u001b[0m \u001b[1m0s\u001b[0m 17ms/step\n",
            "\u001b[1m1/1\u001b[0m \u001b[32m━━━━━━━━━━━━━━━━━━━━\u001b[0m\u001b[37m\u001b[0m \u001b[1m0s\u001b[0m 17ms/step\n",
            "\u001b[1m1/1\u001b[0m \u001b[32m━━━━━━━━━━━━━━━━━━━━\u001b[0m\u001b[37m\u001b[0m \u001b[1m0s\u001b[0m 19ms/step\n",
            "模型的 MSE: 0.016731785515980476\n"
          ]
        }
      ],
      "source": [
        "# 使用模型進行逐步預測，假設 initial_sequence 是前 50 筆的數據\n",
        "initial_sequence = X_test[0]  # 測試集中的初始數據\n",
        "predicted_sequence = stepwise_prediction(model, initial_sequence)\n",
        "\n",
        "# 計算模型預測的 MSE\n",
        "true_sequence = test_data[feature_columns].values[-3950:]  # 將真實值展開為 (3950, 10)\n",
        "model_mse = mean_squared_error(true_sequence, predicted_sequence.reshape(-1, 10))\n",
        "\n",
        "print(f\"模型的 MSE: {model_mse}\")"
      ]
    },
    {
      "cell_type": "code",
      "execution_count": null,
      "metadata": {
        "colab": {
          "base_uri": "https://localhost:8080/"
        },
        "id": "qrl06D7OcKhR",
        "outputId": "8ba168e6-fd92-4bae-f4a3-23383a53685f"
      },
      "outputs": [
        {
          "name": "stdout",
          "output_type": "stream",
          "text": [
            "還原後的測試集均方誤差 (MSE): 222287.65195322092\n"
          ]
        }
      ],
      "source": [
        "predicted_sequence_scaled = predicted_sequence.reshape(-1, 10)\n",
        "predicted_sequence_unscaled = scaler.inverse_transform(predicted_sequence_scaled)\n",
        "true_sequence_unscaled = scaler.inverse_transform(true_sequence)\n",
        "model_mse_original_scale = mean_squared_error(true_sequence_unscaled , predicted_sequence_unscaled)\n",
        "print(f\"還原後的測試集均方誤差 (MSE): {model_mse_original_scale}\")"
      ]
    },
    {
      "cell_type": "code",
      "execution_count": null,
      "metadata": {
        "colab": {
          "base_uri": "https://localhost:8080/"
        },
        "id": "Bqttd0T13Q4v",
        "outputId": "9454a75e-db2b-424c-9851-4d27d788defd"
      },
      "outputs": [
        {
          "data": {
            "text/plain": [
              "array([[1025.6567  ,  635.8706  , 1544.3057  , ...,  628.78357 ,\n",
              "         643.21576 ,  779.8312  ],\n",
              "       [ 954.8589  ,  566.41736 , 1457.5021  , ...,  556.0328  ,\n",
              "         546.92615 ,  738.74457 ],\n",
              "       [ 952.7936  ,  582.3274  , 1447.1246  , ...,  595.3091  ,\n",
              "         573.5616  ,  791.5039  ],\n",
              "       ...,\n",
              "       [ 103.662674,  100.07056 ,  104.92226 , ...,  114.93251 ,\n",
              "         111.4126  ,  100.86907 ],\n",
              "       [ 103.604034,  100.027565,  104.87072 , ...,  114.87404 ,\n",
              "         111.35111 ,  100.82143 ],\n",
              "       [ 103.544174,   99.9816  ,  104.819176, ...,  114.81507 ,\n",
              "         111.289505,  100.77187 ]], dtype=float32)"
            ]
          },
          "execution_count": 15,
          "metadata": {},
          "output_type": "execute_result"
        }
      ],
      "source": [
        "predicted_sequence_unscaled"
      ]
    },
    {
      "cell_type": "code",
      "execution_count": null,
      "metadata": {
        "colab": {
          "base_uri": "https://localhost:8080/"
        },
        "id": "Syl_2lL6du7H",
        "outputId": "b6a306fe-e4ad-468e-c8be-2f5aa607068b"
      },
      "outputs": [
        {
          "name": "stdout",
          "output_type": "stream",
          "text": [
            "還原後亂猜均方誤差 MSE: 997298.4656491021\n"
          ]
        }
      ],
      "source": [
        "initial_sequence = X_test[0]\n",
        "# 基於前 50 筆資料的平均值進行基線預測\n",
        "baseline_prediction = np.mean(initial_sequence, axis=0)\n",
        "\n",
        "# 將平均值複製來生成 3950 筆預測\n",
        "baseline_sequence = np.tile(baseline_prediction, (3950, 1))\n",
        "baseline_sequence_unscaled = scaler.inverse_transform(baseline_sequence)\n",
        "# 計算基線 MSE\n",
        "baseline_unscaled_mse = mean_squared_error(true_sequence_unscaled, baseline_sequence_unscaled)\n",
        "\n",
        "print(f\"還原後亂猜均方誤差 MSE: {baseline_unscaled_mse}\")"
      ]
    }
  ],
  "metadata": {
    "accelerator": "GPU",
    "colab": {
      "gpuType": "T4",
      "provenance": [],
      "collapsed_sections": [
        "EMrvkkZCbLuh",
        "ihw0ri4QZ6Dt"
      ]
    },
    "kernelspec": {
      "display_name": "Python 3",
      "name": "python3"
    },
    "language_info": {
      "codemirror_mode": {
        "name": "ipython",
        "version": 3
      },
      "file_extension": ".py",
      "mimetype": "text/x-python",
      "name": "python",
      "nbconvert_exporter": "python",
      "pygments_lexer": "ipython3",
      "version": "3.11.1"
    }
  },
  "nbformat": 4,
  "nbformat_minor": 0
}